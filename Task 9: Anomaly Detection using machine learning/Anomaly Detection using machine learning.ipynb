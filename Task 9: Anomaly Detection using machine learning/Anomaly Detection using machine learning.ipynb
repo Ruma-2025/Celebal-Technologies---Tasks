{
 "cells": [
  {
   "cell_type": "code",
   "execution_count": 9,
   "id": "e6fe0490-725b-4155-ab24-6ce70118c9b5",
   "metadata": {},
   "outputs": [],
   "source": [
    "import pandas as pd\n",
    "from sklearn.preprocessing import StandardScaler\n",
    "from sklearn.model_selection import train_test_split\n",
    "from sklearn.linear_model import LinearRegression\n",
    "from sklearn.metrics import mean_absolute_error, mean_squared_error\n",
    "import matplotlib.pyplot as plt\n",
    "\n",
    "# Load the datasets\n",
    "train_df = pd.read_csv('train.csv')\n",
    "test_df = pd.read_csv('test.csv')\n",
    "\n",
    "# Concatenate the datasets\n",
    "combined_df = pd.concat([train_df, test_df], ignore_index=True)\n",
    "\n",
    "# Convert 'timestamp' to datetime format\n",
    "combined_df['timestamp'] = pd.to_datetime(combined_df['timestamp'], unit='s')\n"
   ]
  },
  {
   "cell_type": "code",
   "execution_count": 10,
   "id": "db1a00ca-b10f-49f1-8516-a9b92848c206",
   "metadata": {},
   "outputs": [],
   "source": [
    "# Extract features from 'timestamp'\n",
    "combined_df['year'] = combined_df['timestamp'].dt.year\n",
    "combined_df['month'] = combined_df['timestamp'].dt.month\n",
    "combined_df['day'] = combined_df['timestamp'].dt.day\n",
    "combined_df['hour'] = combined_df['timestamp'].dt.hour"
   ]
  },
  {
   "cell_type": "code",
   "execution_count": 11,
   "id": "de14621e-f4de-4953-8f82-d99338affd25",
   "metadata": {},
   "outputs": [
    {
     "data": {
      "text/html": [
       "<div>\n",
       "<style scoped>\n",
       "    .dataframe tbody tr th:only-of-type {\n",
       "        vertical-align: middle;\n",
       "    }\n",
       "\n",
       "    .dataframe tbody tr th {\n",
       "        vertical-align: top;\n",
       "    }\n",
       "\n",
       "    .dataframe thead th {\n",
       "        text-align: right;\n",
       "    }\n",
       "</style>\n",
       "<table border=\"1\" class=\"dataframe\">\n",
       "  <thead>\n",
       "    <tr style=\"text-align: right;\">\n",
       "      <th></th>\n",
       "      <th>timestamp</th>\n",
       "      <th>value</th>\n",
       "      <th>is_anomaly</th>\n",
       "      <th>predicted</th>\n",
       "      <th>year</th>\n",
       "      <th>month</th>\n",
       "      <th>day</th>\n",
       "      <th>hour</th>\n",
       "    </tr>\n",
       "  </thead>\n",
       "  <tbody>\n",
       "    <tr>\n",
       "      <th>0</th>\n",
       "      <td>2015-02-27 03:42:53</td>\n",
       "      <td>42.00000</td>\n",
       "      <td>False</td>\n",
       "      <td>44.072500</td>\n",
       "      <td>2015</td>\n",
       "      <td>2</td>\n",
       "      <td>27</td>\n",
       "      <td>3</td>\n",
       "    </tr>\n",
       "    <tr>\n",
       "      <th>1</th>\n",
       "      <td>2015-02-27 03:47:53</td>\n",
       "      <td>41.00000</td>\n",
       "      <td>False</td>\n",
       "      <td>50.709390</td>\n",
       "      <td>2015</td>\n",
       "      <td>2</td>\n",
       "      <td>27</td>\n",
       "      <td>3</td>\n",
       "    </tr>\n",
       "    <tr>\n",
       "      <th>2</th>\n",
       "      <td>2015-02-27 03:52:53</td>\n",
       "      <td>41.00000</td>\n",
       "      <td>False</td>\n",
       "      <td>81.405120</td>\n",
       "      <td>2015</td>\n",
       "      <td>2</td>\n",
       "      <td>27</td>\n",
       "      <td>3</td>\n",
       "    </tr>\n",
       "    <tr>\n",
       "      <th>3</th>\n",
       "      <td>2015-02-27 03:57:53</td>\n",
       "      <td>61.00000</td>\n",
       "      <td>False</td>\n",
       "      <td>39.950367</td>\n",
       "      <td>2015</td>\n",
       "      <td>2</td>\n",
       "      <td>27</td>\n",
       "      <td>3</td>\n",
       "    </tr>\n",
       "    <tr>\n",
       "      <th>4</th>\n",
       "      <td>2015-02-27 04:02:53</td>\n",
       "      <td>44.00000</td>\n",
       "      <td>False</td>\n",
       "      <td>35.350160</td>\n",
       "      <td>2015</td>\n",
       "      <td>2</td>\n",
       "      <td>27</td>\n",
       "      <td>4</td>\n",
       "    </tr>\n",
       "    <tr>\n",
       "      <th>...</th>\n",
       "      <td>...</td>\n",
       "      <td>...</td>\n",
       "      <td>...</td>\n",
       "      <td>...</td>\n",
       "      <td>...</td>\n",
       "      <td>...</td>\n",
       "      <td>...</td>\n",
       "      <td>...</td>\n",
       "    </tr>\n",
       "    <tr>\n",
       "      <th>19785</th>\n",
       "      <td>2014-04-14 23:35:00</td>\n",
       "      <td>20.00384</td>\n",
       "      <td>NaN</td>\n",
       "      <td>19.836240</td>\n",
       "      <td>2014</td>\n",
       "      <td>4</td>\n",
       "      <td>14</td>\n",
       "      <td>23</td>\n",
       "    </tr>\n",
       "    <tr>\n",
       "      <th>19786</th>\n",
       "      <td>2014-04-14 23:40:00</td>\n",
       "      <td>20.00384</td>\n",
       "      <td>NaN</td>\n",
       "      <td>19.207998</td>\n",
       "      <td>2014</td>\n",
       "      <td>4</td>\n",
       "      <td>14</td>\n",
       "      <td>23</td>\n",
       "    </tr>\n",
       "    <tr>\n",
       "      <th>19787</th>\n",
       "      <td>2014-04-14 23:45:00</td>\n",
       "      <td>20.00384</td>\n",
       "      <td>NaN</td>\n",
       "      <td>20.103437</td>\n",
       "      <td>2014</td>\n",
       "      <td>4</td>\n",
       "      <td>14</td>\n",
       "      <td>23</td>\n",
       "    </tr>\n",
       "    <tr>\n",
       "      <th>19788</th>\n",
       "      <td>2014-04-14 23:50:00</td>\n",
       "      <td>20.00384</td>\n",
       "      <td>NaN</td>\n",
       "      <td>19.346764</td>\n",
       "      <td>2014</td>\n",
       "      <td>4</td>\n",
       "      <td>14</td>\n",
       "      <td>23</td>\n",
       "    </tr>\n",
       "    <tr>\n",
       "      <th>19789</th>\n",
       "      <td>2014-04-14 23:55:00</td>\n",
       "      <td>20.00384</td>\n",
       "      <td>NaN</td>\n",
       "      <td>20.134947</td>\n",
       "      <td>2014</td>\n",
       "      <td>4</td>\n",
       "      <td>14</td>\n",
       "      <td>23</td>\n",
       "    </tr>\n",
       "  </tbody>\n",
       "</table>\n",
       "<p>19790 rows × 8 columns</p>\n",
       "</div>"
      ],
      "text/plain": [
       "                timestamp     value is_anomaly  predicted  year  month  day  \\\n",
       "0     2015-02-27 03:42:53  42.00000      False  44.072500  2015      2   27   \n",
       "1     2015-02-27 03:47:53  41.00000      False  50.709390  2015      2   27   \n",
       "2     2015-02-27 03:52:53  41.00000      False  81.405120  2015      2   27   \n",
       "3     2015-02-27 03:57:53  61.00000      False  39.950367  2015      2   27   \n",
       "4     2015-02-27 04:02:53  44.00000      False  35.350160  2015      2   27   \n",
       "...                   ...       ...        ...        ...   ...    ...  ...   \n",
       "19785 2014-04-14 23:35:00  20.00384        NaN  19.836240  2014      4   14   \n",
       "19786 2014-04-14 23:40:00  20.00384        NaN  19.207998  2014      4   14   \n",
       "19787 2014-04-14 23:45:00  20.00384        NaN  20.103437  2014      4   14   \n",
       "19788 2014-04-14 23:50:00  20.00384        NaN  19.346764  2014      4   14   \n",
       "19789 2014-04-14 23:55:00  20.00384        NaN  20.134947  2014      4   14   \n",
       "\n",
       "       hour  \n",
       "0         3  \n",
       "1         3  \n",
       "2         3  \n",
       "3         3  \n",
       "4         4  \n",
       "...     ...  \n",
       "19785    23  \n",
       "19786    23  \n",
       "19787    23  \n",
       "19788    23  \n",
       "19789    23  \n",
       "\n",
       "[19790 rows x 8 columns]"
      ]
     },
     "execution_count": 11,
     "metadata": {},
     "output_type": "execute_result"
    }
   ],
   "source": [
    "combined_df"
   ]
  },
  {
   "cell_type": "code",
   "execution_count": 12,
   "id": "4c0ba24e-1036-47fb-a588-6ad1d5e09dfe",
   "metadata": {},
   "outputs": [],
   "source": [
    "# Drop the original 'timestamp' column\n",
    "combined_df = combined_df.drop(columns=['timestamp'])"
   ]
  },
  {
   "cell_type": "code",
   "execution_count": 13,
   "id": "cb2cb8d5-b9db-4363-afb9-5a9b37392a4d",
   "metadata": {},
   "outputs": [],
   "source": [
    "# Fill missing values in 'is_anomaly' column\n",
    "if 'is_anomaly' in combined_df.columns:\n",
    "    combined_df['is_anomaly'] = combined_df['is_anomaly'].fillna(0)\n",
    "\n",
    "# Convert 'is_anomaly' to numerical format\n",
    "if 'is_anomaly' in combined_df.columns:\n",
    "    combined_df['is_anomaly'] = combined_df['is_anomaly'].astype(int)"
   ]
  },
  {
   "cell_type": "code",
   "execution_count": 14,
   "id": "ae4d6db7-596a-46d4-a0a8-37a7371bf1e7",
   "metadata": {},
   "outputs": [],
   "source": [
    "# Initialize the scaler\n",
    "scaler = StandardScaler()\n",
    "\n",
    "# Fit and transform the 'value' and 'predicted' columns\n",
    "combined_df[['value', 'predicted']] = scaler.fit_transform(combined_df[['value', 'predicted']])"
   ]
  },
  {
   "cell_type": "code",
   "execution_count": 15,
   "id": "c706f495-bf1d-42c6-8945-c54fdb9fa202",
   "metadata": {},
   "outputs": [],
   "source": [
    "# Split the dataset back into training and testing sets\n",
    "train_processed_df = combined_df.iloc[:len(train_df)]\n",
    "test_processed_df = combined_df.iloc[len(train_df):]\n",
    "\n",
    "# Define features and target\n",
    "X = train_processed_df.drop(columns=['value'])\n",
    "y = train_processed_df['value']\n",
    "\n",
    "# Split data into training and validation sets\n",
    "X_train, X_val, y_train, y_val = train_test_split(X, y, test_size=0.2, random_state=42)"
   ]
  },
  {
   "cell_type": "code",
   "execution_count": 16,
   "id": "fa9fbf89-0afc-4279-8eb7-7cec29db9c87",
   "metadata": {},
   "outputs": [
    {
     "name": "stderr",
     "output_type": "stream",
     "text": [
      "C:\\Programming Languages\\Python 3.12.3\\Lib\\site-packages\\sklearn\\metrics\\_regression.py:492: FutureWarning: 'squared' is deprecated in version 1.4 and will be removed in 1.6. To calculate the root mean squared error, use the function'root_mean_squared_error'.\n",
      "  warnings.warn(\n"
     ]
    }
   ],
   "source": [
    "# Train a regression model\n",
    "model = LinearRegression()\n",
    "model.fit(X_train, y_train)\n",
    "\n",
    "# Predict on validation set\n",
    "y_pred = model.predict(X_val)\n",
    "\n",
    "# Evaluate the model\n",
    "mae = mean_absolute_error(y_val, y_pred)\n",
    "mse = mean_squared_error(y_val, y_pred)\n",
    "rmse = mean_squared_error(y_val, y_pred, squared=False)"
   ]
  },
  {
   "cell_type": "code",
   "execution_count": 17,
   "id": "5d241338-8b0a-4897-a249-899e5b2dd5d9",
   "metadata": {},
   "outputs": [
    {
     "name": "stdout",
     "output_type": "stream",
     "text": [
      "Mean Absolute Error: 0.23180009785802294\n",
      "Mean Squared Error: 1.873765295472991\n",
      "Root Mean Squared Error: 1.368855469168674\n"
     ]
    }
   ],
   "source": [
    "# Print evaluation metrics\n",
    "print(f\"Mean Absolute Error: {mae}\")\n",
    "print(f\"Mean Squared Error: {mse}\")\n",
    "print(f\"Root Mean Squared Error: {rmse}\")\n",
    "\n",
    "# Predict on test set\n",
    "test_features = test_processed_df.drop(columns=['value'])\n",
    "test_predictions = model.predict(test_features)"
   ]
  },
  {
   "cell_type": "code",
   "execution_count": 18,
   "id": "3babfc8a-d275-449d-8e80-9c4d15c35a74",
   "metadata": {},
   "outputs": [
    {
     "data": {
      "image/png": "[encoded data removed]",
      "text/plain": [
       "<Figure size 1000x500 with 1 Axes>"
      ]
     },
     "metadata": {},
     "output_type": "display_data"
    }
   ],
   "source": [
    "# Visualize predictions\n",
    "plt.figure(figsize=(10, 5))\n",
    "plt.plot(y_val.values, label='Actual')\n",
    "plt.plot(y_pred, label='Predicted')\n",
    "plt.legend()\n",
    "plt.xlabel('Sample')\n",
    "plt.ylabel('Value')\n",
    "plt.title('Actual vs Predicted Values')\n",
    "plt.show()"
   ]
  },
  {
   "cell_type": "code",
   "execution_count": null,
   "id": "f85aa47f-6804-4dbc-af28-6e913c62c4d1",
   "metadata": {},
   "outputs": [],
   "source": []
  }
 ],
 "metadata": {
  "kernelspec": {
   "display_name": "Python 3 (ipykernel)",
   "language": "python",
   "name": "python3"
  },
  "language_info": {
   "codemirror_mode": {
    "name": "ipython",
    "version": 3
   },
   "file_extension": ".py",
   "mimetype": "text/x-python",
   "name": "python",
   "nbconvert_exporter": "python",
   "pygments_lexer": "ipython3",
   "version": "3.12.3"
  }
 },
 "nbformat": 4,
 "nbformat_minor": 5
}
