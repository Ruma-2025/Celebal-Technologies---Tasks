{
 "cells": [
  {
   "cell_type": "code",
   "execution_count": 1,
   "id": "37fdf7d7-7202-4790-bcc2-47cd6f0ebea9",
   "metadata": {},
   "outputs": [],
   "source": [
    "import numpy as np\n",
    "import pandas as pd"
   ]
  },
  {
   "cell_type": "code",
   "execution_count": 2,
   "id": "e68763d7-a7cf-4843-9127-241510e43266",
   "metadata": {},
   "outputs": [
    {
     "name": "stdout",
     "output_type": "stream",
     "text": [
      "[[  5   4   8]\n",
      " [  6  -8   1]\n",
      " [  7   9 -10]]\n"
     ]
    }
   ],
   "source": [
    "a=np.array([[5,4,8],[6,-8,1],[7,9,-10]])\n",
    "print(a)\n",
    "#Creating a 3x3 matrix"
   ]
  },
  {
   "cell_type": "code",
   "execution_count": 3,
   "id": "45e556f1-c806-4a29-9017-5e2c23f25356",
   "metadata": {},
   "outputs": [
    {
     "name": "stdout",
     "output_type": "stream",
     "text": [
      "1503.0\n"
     ]
    }
   ],
   "source": [
    "#Calculating the determinant of the matrix\n",
    "\n",
    "deta=np.linalg.det(a)\n",
    "print(deta)"
   ]
  },
  {
   "cell_type": "code",
   "execution_count": 4,
   "id": "692dc2e1-fc34-43ab-adec-28d4ee27ef98",
   "metadata": {},
   "outputs": [
    {
     "name": "stdout",
     "output_type": "stream",
     "text": [
      "[[ 0.04723886  0.07451763  0.04524285]\n",
      " [ 0.04457751 -0.07052562  0.02860945]\n",
      " [ 0.07318696 -0.01131071 -0.0425815 ]]\n"
     ]
    }
   ],
   "source": [
    "#Calculating the inverse of the matrix\n",
    "\n",
    "inva=np.linalg.inv(a)\n",
    "print(inva)"
   ]
  },
  {
   "cell_type": "code",
   "execution_count": 5,
   "id": "69ee8ac8-2277-4018-813d-463a61c848b9",
   "metadata": {},
   "outputs": [],
   "source": [
    "#Calculating eigenvalues and eigenvectors of the matrix\n",
    "\n",
    "eigenvalues,eigenvectors=np.linalg.eig(a)"
   ]
  },
  {
   "cell_type": "code",
   "execution_count": 6,
   "id": "3babd2d4-e3c2-4c8e-aa29-661bdc4acfef",
   "metadata": {},
   "outputs": [
    {
     "name": "stdout",
     "output_type": "stream",
     "text": [
      "[ 10.40333852+0.j         -11.70166926+2.74659603j\n",
      " -11.70166926-2.74659603j]\n"
     ]
    }
   ],
   "source": [
    "#Printing eigenvalues\n",
    "print(eigenvalues)"
   ]
  },
  {
   "cell_type": "code",
   "execution_count": 7,
   "id": "ed3d3c2d-1d69-46ff-9b6e-8c11760f92d0",
   "metadata": {},
   "outputs": [
    {
     "name": "stdout",
     "output_type": "stream",
     "text": [
      "[[ 0.85325123+0.j         -0.40068187-0.15373488j -0.40068187+0.15373488j]\n",
      " [ 0.30131228+0.j          0.15848238+0.36677949j  0.15848238-0.36677949j]\n",
      " [ 0.42564451+0.j          0.81004677+0.j          0.81004677-0.j        ]]\n"
     ]
    }
   ],
   "source": [
    "#Printing eigenvectors\n",
    "print(eigenvectors)"
   ]
  },
  {
   "cell_type": "code",
   "execution_count": null,
   "id": "5941c056-8333-48f8-b469-54a6ebf810ca",
   "metadata": {},
   "outputs": [],
   "source": []
  }
 ],
 "metadata": {
  "kernelspec": {
   "display_name": "Python 3 (ipykernel)",
   "language": "python",
   "name": "python3"
  },
  "language_info": {
   "codemirror_mode": {
    "name": "ipython",
    "version": 3
   },
   "file_extension": ".py",
   "mimetype": "text/x-python",
   "name": "python",
   "nbconvert_exporter": "python",
   "pygments_lexer": "ipython3",
   "version": "3.12.3"
  }
 },
 "nbformat": 4,
 "nbformat_minor": 5
}
