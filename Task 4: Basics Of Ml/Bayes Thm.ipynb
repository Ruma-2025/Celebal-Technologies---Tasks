{
 "cells": [
  {
   "cell_type": "code",
   "execution_count": 3,
   "id": "9a5ac994-80cd-444e-8ddc-e96e7f1c28c5",
   "metadata": {},
   "outputs": [
    {
     "data": {
      "text/plain": [
       "'A patient goes to see a doctor. The doctor performs a test with 99 percent reliability--that is, 99 percent of people who are sick test positive and 99 percent of the healthy people test negative. The doctor knows that only 1 percent of the people in the country are sick. Now the question is: if the patient tests positive, what are the chances the patient is sick?'"
      ]
     },
     "execution_count": 3,
     "metadata": {},
     "output_type": "execute_result"
    }
   ],
   "source": [
    "\"A patient goes to see a doctor. The doctor performs a test with 99 percent reliability--that is, 99 percent of people who are sick test positive and 99 percent of the healthy people test negative. The doctor knows that only 1 percent of the people in the country are sick. Now the question is: if the patient tests positive, what are the chances the patient is sick?\"\n",
    "\n",
    "#Problem Statement"
   ]
  },
  {
   "cell_type": "code",
   "execution_count": 1,
   "id": "089091c0-dc0d-4a8e-9b62-7eb709325c7b",
   "metadata": {},
   "outputs": [],
   "source": [
    "def bayesTheorem(pA, pB, pBA):\n",
    "    return pA * pBA / pB\n",
    "\n",
    "#Function to calculate conditional probabiltiy using Bayes' theorem"
   ]
  },
  {
   "cell_type": "code",
   "execution_count": 7,
   "id": "198f9a9a-c318-4f5f-906b-19c3af18607b",
   "metadata": {},
   "outputs": [],
   "source": [
    "#define probabilities\n",
    "\n",
    "pDisease = 1/100 #probability of disease in population\n",
    "pPositive = ((99/100)*(1/100))+((1/100)*(99/100)) #probability of positive test of patient\n",
    "pPositiveGivenDisease= 99/100 #probability of positive test given patient is sick"
   ]
  },
  {
   "cell_type": "code",
   "execution_count": 8,
   "id": "de5cf177-7e9c-4f19-a988-c35f1619a409",
   "metadata": {},
   "outputs": [
    {
     "name": "stdout",
     "output_type": "stream",
     "text": [
      "The probability that a patient is sick given he/she has tested positive is: 50.0%\n"
     ]
    }
   ],
   "source": [
    "pDiseaseGivenPositive=bayesTheorem(pDisease, pPositive, pPositiveGivenDisease)\n",
    "print(f\"The probability that a patient is sick given he/she has tested positive is: {pDiseaseGivenPositive*100}%\")\n",
    "\n",
    "#Calculating the result and displaying it"
   ]
  },
  {
   "cell_type": "code",
   "execution_count": null,
   "id": "3f34e29e-e898-4fb8-aff5-da9a9a009d95",
   "metadata": {},
   "outputs": [],
   "source": []
  }
 ],
 "metadata": {
  "kernelspec": {
   "display_name": "Python 3 (ipykernel)",
   "language": "python",
   "name": "python3"
  },
  "language_info": {
   "codemirror_mode": {
    "name": "ipython",
    "version": 3
   },
   "file_extension": ".py",
   "mimetype": "text/x-python",
   "name": "python",
   "nbconvert_exporter": "python",
   "pygments_lexer": "ipython3",
   "version": "3.12.3"
  }
 },
 "nbformat": 4,
 "nbformat_minor": 5
}
